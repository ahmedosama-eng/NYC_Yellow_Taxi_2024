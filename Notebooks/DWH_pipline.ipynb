{
 "cells": [
  {
   "cell_type": "code",
   "execution_count": 1,
   "metadata": {},
   "outputs": [],
   "source": [
    "from pyspark.sql import SparkSession\n",
    "\n",
    "spark = SparkSession.builder \\\n",
    "    .appName(\"Taxi_analysis_2024\") \\\n",
    "    .config(\"spark.ui.port\", \"4041\") \\\n",
    "    .config(\"spark.driver.memory\", \"2g\") \\\n",
    "    .config(\"spark.executor.memory\", \"2g\") \\\n",
    "    .config(\"spark.jars\", r\"C:\\Program Files\\PostgreSQL\\17\\jdbc\\postgresql-42.7.5.jar\") \\\n",
    "    .getOrCreate()\n",
    "\n",
    "spark.sparkContext.setLogLevel(\"ERROR\")\n",
    "spark.conf.set(\"spark.hadoop.io.native.lib.available\", \"false\")\n"
   ]
  },
  {
   "cell_type": "code",
   "execution_count": 2,
   "metadata": {},
   "outputs": [],
   "source": [
    "import os\n",
    "\n",
    "directory = r\"F:\\data project\\Taxi_track_2024\\data\\2024\"\n",
    "data={}\n",
    "for root, _, files in os.walk(directory):\n",
    "    for file in files:\n",
    "        file_path = os.path.join(root, file)\n",
    "        file_name=file_path.split(\"\\\\\")[5].split(\"_\")[2].split(\".\")[0]\n",
    "        data[file_name]=spark.read.parquet(file_path)\n",
    "    "
   ]
  },
  {
   "cell_type": "code",
   "execution_count": 3,
   "metadata": {},
   "outputs": [],
   "source": [
    "lookups={}\n",
    "directory = r\"F:\\data project\\Taxi_track_2024\\data\\lookups\"\n",
    "for root, _, files in os.walk(directory):\n",
    "    for file in files:\n",
    "        file_path = os.path.join(root, file)\n",
    "        file_name=file_path.split(\"\\\\\")[5].split(\".\")[0]\n",
    "        lookups[file_name]=spark.read.csv(file_path,header=True,inferSchema=True)\n",
    "   \n"
   ]
  },
  {
   "cell_type": "code",
   "execution_count": 4,
   "metadata": {},
   "outputs": [],
   "source": [
    "from pyspark.sql.functions import col,split, year, month, dayofmonth, hour, minute, when, date_format,unix_timestamp,count,round,concat_ws,lit\\\n",
    ",explode, sequence, to_date, expr, year, month, dayofmonth, date_format"
   ]
  },
  {
   "cell_type": "code",
   "execution_count": 31,
   "metadata": {},
   "outputs": [],
   "source": [
    " \n",
    "c=0\n",
    "for i in data.keys():\n",
    "        df=data[i].withColumn('tpep_pickup_datetime',col('tpep_pickup_datetime').cast('timestamp'))\\\n",
    "                        .withColumn('tpep_dropoff_datetime',col('tpep_dropoff_datetime').cast('timestamp'))\\\n",
    "                        .withColumn(\"pickup_date\", split(col(\"tpep_pickup_datetime\"),\" \")[0])\\\n",
    "                        .withColumn(\"pickup_time\", split(col(\"tpep_pickup_datetime\"),\" \")[1])\\\n",
    "                        .withColumn(\"dropoff_date\", split(col(\"tpep_dropoff_datetime\"),\" \")[0])\\\n",
    "                        .withColumn(\"dropoff_time\", split(col(\"tpep_dropoff_datetime\"),\" \")[1])\\\n",
    "                        .withColumn(\"pickup_date_key\", date_format(col(\"pickup_date\"), \"yyyyMMdd\").cast(\"int\"))\\\n",
    "                        .withColumn(\"dropoff_date_key\", date_format(col(\"dropoff_date\"), \"yyyyMMdd\").cast(\"int\"))\\\n",
    "                        .withColumn(\"duration\",round((unix_timestamp(col(\"tpep_dropoff_datetime\")) - unix_timestamp(col(\"tpep_pickup_datetime\"))) / 60,2))\\\n",
    "                        .withColumn(\"pickup_hour\", hour(\"tpep_pickup_datetime\")) \\\n",
    "                        .withColumn(\"pickup_time_of_day\", \n",
    "                                when(col(\"pickup_hour\").between(0, 5), \"Morning\")\n",
    "                                .when(col(\"pickup_hour\").between(6, 11), \"Afternoon\")\n",
    "                                .when(col(\"pickup_hour\").between(12, 17), \"Evening\")\n",
    "                                .when(col(\"pickup_hour\").between(18, 23), \"Night\")\n",
    "                                )\\\n",
    "                        .withColumn(\"dropoff_hour\", hour(\"tpep_dropoff_datetime\")) \\\n",
    "                        .withColumn(\"dropoff_time_of_day\", \n",
    "                                when(col(\"dropoff_hour\").between(0, 5), \"Morning\")\n",
    "                                .when(col(\"dropoff_hour\").between(6, 11), \"Afternoon\")\n",
    "                                .when(col(\"dropoff_hour\").between(12, 17), \"Evening\")\n",
    "                                .when(col(\"dropoff_hour\").between(18, 23), \"Night\")\n",
    "                                )\n",
    "        if c==0:\n",
    "                Taxi_facts=df\n",
    "                c=1\n",
    "                continue\n",
    "        \n",
    "        Taxi_facts=Taxi_facts.union(df)\n",
    "\n",
    "\n",
    "Taxi_facts=Taxi_facts.select(\n",
    "               \n",
    "                col('VendorID'),\n",
    "                col('pickup_date_key'),\n",
    "                col('pickup_time'),\n",
    "                col('dropoff_date_key'),\n",
    "                col('dropoff_time'),\n",
    "                col('trip_distance').alias(\"trip_distance_in_mile\"),\n",
    "                col('RatecodeID'),\n",
    "                col('store_and_fwd_flag'),\n",
    "                col('PULocationID'),\n",
    "                col('DOLocationID'),\n",
    "                col('payment_type'),               \n",
    "                col('duration'),\n",
    "                col('passenger_count'),\n",
    "                col('fare_amount'),\n",
    "                col('extra'),\n",
    "                col('mta_tax'),\n",
    "                col('tip_amount'),\n",
    "                col('improvement_surcharge'),\n",
    "                col('total_amount'),\n",
    "                col('congestion_surcharge'),\n",
    "                col('Airport_fee')\n",
    "            )\n",
    "\n",
    "Taxi_facts=Taxi_facts.fillna({\"passenger_count\": 0})\\\n",
    "                    .fillna({\"RatecodeID\": 0})\\\n",
    "                    .fillna({\"store_and_fwd_flag\": 'None'})\\\n",
    "                   .fillna({\"congestion_surcharge\": 0})\\\n",
    "                   .fillna({\"Airport_fee\": 0})\\\n",
    "                  \n",
    "\n"
   ]
  },
  {
   "cell_type": "code",
   "execution_count": 16,
   "metadata": {},
   "outputs": [
    {
     "name": "stdout",
     "output_type": "stream",
     "text": [
      "+------------------+\n",
      "|store_and_fwd_flag|\n",
      "+------------------+\n",
      "|                 Y|\n",
      "|                 N|\n",
      "|              None|\n",
      "+------------------+\n",
      "\n"
     ]
    }
   ],
   "source": [
    "Taxi_facts.select('store_and_fwd_flag').distinct().show()"
   ]
  },
  {
   "cell_type": "code",
   "execution_count": 6,
   "metadata": {},
   "outputs": [],
   "source": [
    "\n",
    "\n",
    " \n",
    "# Define start and end dates\n",
    "start_date = \"2024-01-01\"\n",
    "end_date = \"2024-12-31\"\n",
    "\n",
    "# Create a DataFrame with a sequence of dates\n",
    "date_dim = spark.createDataFrame([(start_date, end_date)], [\"start_date\", \"end_date\"]) \\\n",
    "       .withColumn(\"start_date\", to_date(col(\"start_date\"))) \\\n",
    "       .withColumn(\"end_date\", to_date(col(\"end_date\"))) \\\n",
    "       .withColumn(\"date\", explode(sequence(col(\"start_date\"), col(\"end_date\"), expr(\"INTERVAL 1 DAY\"))))\n",
    "\n",
    "# Add date attributes\n",
    "date_dim = date_dim.withColumn(\"date_key\", date_format(col(\"date\"), \"yyyyMMdd\").cast(\"int\"))\\\n",
    "       .withColumn(\"year\", year(col(\"date\"))) \\\n",
    "       .withColumn(\"month\", month(col(\"date\"))) \\\n",
    "       .withColumn(\"day\", dayofmonth(col(\"date\"))) \\\n",
    "       .withColumn(\"day_of_week\", date_format(col(\"date\"), \"EEEE\")) \\\n",
    "       \n"
   ]
  },
  {
   "cell_type": "code",
   "execution_count": null,
   "metadata": {},
   "outputs": [],
   "source": [
    "from pyspark.sql import Row"
   ]
  },
  {
   "cell_type": "code",
   "execution_count": null,
   "metadata": {},
   "outputs": [],
   "source": [
    "new_row = Row(0, \"unkown\")\n",
    "new_df = spark.createDataFrame([new_row], lookups['payment_type_lookup'].schema)\n",
    "lookups['payment_type_lookup']=lookups['payment_type_lookup'].union(new_df)"
   ]
  },
  {
   "cell_type": "code",
   "execution_count": 19,
   "metadata": {},
   "outputs": [],
   "source": [
    "\n",
    "new_row = Row(\"None\", \"unkown\")\n",
    "new_df = spark.createDataFrame([new_row], lookups['Store_and_fwd_flag'].schema)\n",
    "lookups['Store_and_fwd_flag']=lookups['Store_and_fwd_flag'].union(new_df)"
   ]
  },
  {
   "cell_type": "code",
   "execution_count": 20,
   "metadata": {},
   "outputs": [],
   "source": [
    "\n",
    "new_row = Row(0, \"unkown\")\n",
    "new_df = spark.createDataFrame([new_row], lookups['rate_lookup'].schema)\n",
    "lookups['rate_lookup']=lookups['rate_lookup'].union(new_df)"
   ]
  },
  {
   "cell_type": "code",
   "execution_count": 21,
   "metadata": {},
   "outputs": [
    {
     "name": "stdout",
     "output_type": "stream",
     "text": [
      "+--------+---------------+-----------+----------------+------------+-------------+----------+------------------+------------+------------+------------+--------+---------------+-------------+-----------+-----+-------+----------+---------------------+------------+--------------------+-----------+\n",
      "|VendorID|pickup_date_key|pickup_time|dropoff_date_key|dropoff_time|trip_distance|RatecodeID|store_and_fwd_flag|PULocationID|DOLocationID|payment_type|duration|passenger_count|trip_distance|fare_amount|extra|mta_tax|tip_amount|improvement_surcharge|total_amount|congestion_surcharge|Airport_fee|\n",
      "+--------+---------------+-----------+----------------+------------+-------------+----------+------------------+------------+------------+------------+--------+---------------+-------------+-----------+-----+-------+----------+---------------------+------------+--------------------+-----------+\n",
      "|       2|       20240101|   00:57:55|        20240101|    01:17:43|         1.72|         1|                 N|         186|          79|           2|    19.8|              1|         1.72|       17.7|  1.0|    0.5|       0.0|                  1.0|        22.7|                 2.5|        0.0|\n",
      "|       1|       20240101|   00:03:00|        20240101|    00:09:36|          1.8|         1|                 N|         140|         236|           1|     6.6|              1|          1.8|       10.0|  3.5|    0.5|      3.75|                  1.0|       18.75|                 2.5|        0.0|\n",
      "|       1|       20240101|   00:17:06|        20240101|    00:35:01|          4.7|         1|                 N|         236|          79|           1|   17.92|              1|          4.7|       23.3|  3.5|    0.5|       3.0|                  1.0|        31.3|                 2.5|        0.0|\n",
      "|       1|       20240101|   00:36:38|        20240101|    00:44:56|          1.4|         1|                 N|          79|         211|           1|     8.3|              1|          1.4|       10.0|  3.5|    0.5|       2.0|                  1.0|        17.0|                 2.5|        0.0|\n",
      "|       1|       20240101|   00:46:51|        20240101|    00:52:57|          0.8|         1|                 N|         211|         148|           1|     6.1|              1|          0.8|        7.9|  3.5|    0.5|       3.2|                  1.0|        16.1|                 2.5|        0.0|\n",
      "|       1|       20240101|   00:54:08|        20240101|    01:26:31|          4.7|         1|                 N|         148|         141|           1|   32.38|              1|          4.7|       29.6|  3.5|    0.5|       6.9|                  1.0|        41.5|                 2.5|        0.0|\n",
      "|       2|       20240101|   00:49:44|        20240101|    01:15:47|        10.82|         1|                 N|         138|         181|           1|   26.05|              2|        10.82|       45.7|  6.0|    0.5|      10.0|                  1.0|       64.95|                 0.0|       1.75|\n",
      "|       1|       20240101|   00:30:40|        20240101|    00:58:40|          3.0|         1|                 N|         246|         231|           2|    28.0|              0|          3.0|       25.4|  3.5|    0.5|       0.0|                  1.0|        30.4|                 2.5|        0.0|\n",
      "|       2|       20240101|   00:26:01|        20240101|    00:54:12|         5.44|         1|                 N|         161|         261|           2|   28.18|              1|         5.44|       31.0|  1.0|    0.5|       0.0|                  1.0|        36.0|                 2.5|        0.0|\n",
      "|       2|       20240101|   00:28:08|        20240101|    00:29:16|         0.04|         1|                 N|         113|         113|           2|    1.13|              1|         0.04|        3.0|  1.0|    0.5|       0.0|                  1.0|         8.0|                 2.5|        0.0|\n",
      "|       2|       20240101|   00:35:22|        20240101|    00:41:41|         0.75|         1|                 N|         107|         137|           1|    6.32|              2|         0.75|        7.9|  1.0|    0.5|       0.0|                  1.0|        12.9|                 2.5|        0.0|\n",
      "|       1|       20240101|   00:25:00|        20240101|    00:34:03|          1.2|         1|                 N|         158|         246|           1|    9.05|              2|          1.2|       14.9|  3.5|    0.5|      3.95|                  1.0|       23.85|                 2.5|        0.0|\n",
      "|       1|       20240101|   00:35:16|        20240101|    01:11:52|          8.2|         1|                 N|         246|         190|           1|    36.6|              2|          8.2|       59.0|  3.5|    0.5|     14.15|                  1.0|       85.09|                 2.5|        0.0|\n",
      "|       1|       20240101|   00:43:27|        20240101|    00:47:11|          0.4|         1|                 N|          68|          90|           1|    3.73|              2|          0.4|        5.8|  3.5|    0.5|      1.25|                  1.0|       12.05|                 2.5|        0.0|\n",
      "|       1|       20240101|   00:51:53|        20240101|    00:55:43|          0.8|         1|                 N|          90|          68|           2|    3.83|              1|          0.8|        6.5|  3.5|    0.5|       0.0|                  1.0|        11.5|                 2.5|        0.0|\n",
      "|       1|       20240101|   00:50:09|        20240101|    01:03:57|          5.0|         1|                 N|         132|         216|           2|    13.8|              1|          5.0|       21.2| 2.75|    0.5|       0.0|                  1.0|       25.45|                 0.0|       1.75|\n",
      "|       1|       20240101|   00:41:06|        20240101|    00:53:42|          1.5|         1|                 N|         164|          79|           1|    12.6|              1|          1.5|       12.8|  3.5|    0.5|      4.45|                  1.0|       22.25|                 2.5|        0.0|\n",
      "|       2|       20240101|   00:52:09|        20240101|    00:52:28|          0.0|         1|                 N|         237|         237|           2|    0.32|              1|          0.0|        3.0|  1.0|    0.5|       0.0|                  1.0|         8.0|                 2.5|        0.0|\n",
      "|       2|       20240101|   00:56:38|        20240101|    01:03:17|          1.5|         1|                 N|         141|         263|           1|    6.65|              1|          1.5|        9.3|  1.0|    0.5|       3.0|                  1.0|        17.3|                 2.5|        0.0|\n",
      "|       2|       20240101|   00:32:34|        20240101|    00:49:33|         2.57|         1|                 N|         161|         263|           1|   16.98|              1|         2.57|       17.7|  1.0|    0.5|      10.0|                  1.0|        32.7|                 2.5|        0.0|\n",
      "+--------+---------------+-----------+----------------+------------+-------------+----------+------------------+------------+------------+------------+--------+---------------+-------------+-----------+-----+-------+----------+---------------------+------------+--------------------+-----------+\n",
      "only showing top 20 rows\n",
      "\n"
     ]
    }
   ],
   "source": [
    "Taxi_facts.show()"
   ]
  },
  {
   "cell_type": "code",
   "execution_count": 24,
   "metadata": {},
   "outputs": [
    {
     "name": "stdout",
     "output_type": "stream",
     "text": [
      "+----+--------------------+\n",
      "|flag|           flag_name|\n",
      "+----+--------------------+\n",
      "|   Y|store and forward...|\n",
      "|   N|not a store and f...|\n",
      "|None|              unkown|\n",
      "+----+--------------------+\n",
      "\n"
     ]
    }
   ],
   "source": [
    "lookups['Store_and_fwd_flag'].show()"
   ]
  },
  {
   "cell_type": "code",
   "execution_count": 25,
   "metadata": {},
   "outputs": [
    {
     "name": "stdout",
     "output_type": "stream",
     "text": [
      "+----------+------------+\n",
      "|payment_id|payment_name|\n",
      "+----------+------------+\n",
      "|         1| Credit card|\n",
      "|         2|        Cash|\n",
      "|         3|   No charge|\n",
      "|         4|     Dispute|\n",
      "|         5|     Unknown|\n",
      "|         6| Voided trip|\n",
      "|         0|      unkown|\n",
      "+----------+------------+\n",
      "\n"
     ]
    }
   ],
   "source": [
    "lookups['payment_type_lookup'].show()"
   ]
  },
  {
   "cell_type": "code",
   "execution_count": 26,
   "metadata": {},
   "outputs": [
    {
     "name": "stdout",
     "output_type": "stream",
     "text": [
      "+-------+--------------------+\n",
      "|rate_id|           rate_name|\n",
      "+-------+--------------------+\n",
      "|      1|       Standard rate|\n",
      "|      2|                 JFK|\n",
      "|      3|              Newark|\n",
      "|      4|Nassau or Westche...|\n",
      "|      5|     Negotiated fare|\n",
      "|      6|          Group ride|\n",
      "|      0|              unkown|\n",
      "+-------+--------------------+\n",
      "\n"
     ]
    }
   ],
   "source": [
    "lookups['rate_lookup'].show()"
   ]
  },
  {
   "cell_type": "code",
   "execution_count": 2,
   "metadata": {},
   "outputs": [],
   "source": [
    "jdbc_url = \"jdbc:postgresql://localhost:5432/Taxi_2024_warhouse\"\n",
    "db_properties = {\n",
    "    \"user\": \"postgres\",\n",
    "    \"password\": 123,\n",
    "    \"driver\": \"org.postgresql.Driver\"\n",
    "}"
   ]
  },
  {
   "cell_type": "code",
   "execution_count": 2,
   "metadata": {},
   "outputs": [],
   "source": [
    "def load_into_DataWarhouse(df,jdbc_url,db_properties,table_name):\n",
    "    df.write \\\n",
    "    .format(\"jdbc\") \\\n",
    "    .option(\"url\", jdbc_url) \\\n",
    "    .option(\"dbtable\", f\"public.{table_name}\") \\\n",
    "    .option(\"user\", db_properties[\"user\"]) \\\n",
    "    .option(\"password\", db_properties[\"password\"]) \\\n",
    "    .option(\"driver\", db_properties[\"driver\"]) \\\n",
    "    .mode(\"overwrite\") \\\n",
    "    .save()\n"
   ]
  },
  {
   "cell_type": "code",
   "execution_count": null,
   "metadata": {},
   "outputs": [],
   "source": [
    "load_into_DataWarhouse(lookups['Store_and_fwd_flag'],jdbc_url,db_properties,'Store_and_fwd_flag_dim')\n",
    "load_into_DataWarhouse(lookups['payment_type_lookup'],jdbc_url,db_properties,'payment_type_dim')\n",
    "load_into_DataWarhouse(lookups['rate_lookup'],jdbc_url,db_properties,'rate_dim')\n",
    "load_into_DataWarhouse(lookups['taxi_zone_lookup'],jdbc_url,db_properties,'taxi_zone_dim')\n",
    "load_into_DataWarhouse(lookups['vendor_lookup'],jdbc_url,db_properties,'vendor_dim')\n",
    "load_into_DataWarhouse(date_dim,jdbc_url,db_properties,'date_dim')"
   ]
  },
  {
   "cell_type": "code",
   "execution_count": 32,
   "metadata": {},
   "outputs": [],
   "source": [
    "load_into_DataWarhouse(Taxi_facts,jdbc_url,db_properties,'Taxi_facts')"
   ]
  },
  {
   "cell_type": "code",
   "execution_count": 3,
   "metadata": {},
   "outputs": [],
   "source": [
    "def reading_data(table_name,jdbc_url,db_properties,spark):\n",
    "    df = spark.read \\\n",
    "    .format(\"jdbc\") \\\n",
    "    .option(\"url\", jdbc_url) \\\n",
    "    .option(\"dbtable\", f\"public.{table_name}\")\\\n",
    "    .option(\"user\", db_properties[\"user\"]) \\\n",
    "    .option(\"password\", db_properties[\"password\"]) \\\n",
    "    .option(\"driver\", db_properties[\"driver\"]) \\\n",
    "    .load()\n",
    "\n",
    "    return df"
   ]
  },
  {
   "cell_type": "code",
   "execution_count": null,
   "metadata": {},
   "outputs": [],
   "source": []
  }
 ],
 "metadata": {
  "kernelspec": {
   "display_name": "Python 3",
   "language": "python",
   "name": "python3"
  },
  "language_info": {
   "codemirror_mode": {
    "name": "ipython",
    "version": 3
   },
   "file_extension": ".py",
   "mimetype": "text/x-python",
   "name": "python",
   "nbconvert_exporter": "python",
   "pygments_lexer": "ipython3",
   "version": "3.11.0"
  }
 },
 "nbformat": 4,
 "nbformat_minor": 2
}
